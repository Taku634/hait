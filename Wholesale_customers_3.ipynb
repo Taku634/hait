{
 "cells": [
  {
   "cell_type": "code",
   "execution_count": 1,
   "metadata": {},
   "outputs": [],
   "source": [
    "import pandas as pd\n",
    "import numpy as np\n",
    "import seaborn as sns\n",
    "import matplotlib.pyplot as plt\n",
    "% matplotlib inline\n",
    "df = pd.read_csv('Wholesale customers data.csv')#データの読み込み"
   ]
  },
  {
   "cell_type": "code",
   "execution_count": 2,
   "metadata": {},
   "outputs": [
    {
     "data": {
      "text/html": [
       "<div>\n",
       "<style scoped>\n",
       "    .dataframe tbody tr th:only-of-type {\n",
       "        vertical-align: middle;\n",
       "    }\n",
       "\n",
       "    .dataframe tbody tr th {\n",
       "        vertical-align: top;\n",
       "    }\n",
       "\n",
       "    .dataframe thead th {\n",
       "        text-align: right;\n",
       "    }\n",
       "</style>\n",
       "<table border=\"1\" class=\"dataframe\">\n",
       "  <thead>\n",
       "    <tr style=\"text-align: right;\">\n",
       "      <th></th>\n",
       "      <th>Channel</th>\n",
       "      <th>Region</th>\n",
       "      <th>Fresh</th>\n",
       "      <th>Milk</th>\n",
       "      <th>Grocery</th>\n",
       "      <th>Frozen</th>\n",
       "      <th>Detergents_Paper</th>\n",
       "      <th>Delicassen</th>\n",
       "    </tr>\n",
       "  </thead>\n",
       "  <tbody>\n",
       "    <tr>\n",
       "      <th>count</th>\n",
       "      <td>440.000000</td>\n",
       "      <td>440.000000</td>\n",
       "      <td>440.000000</td>\n",
       "      <td>440.000000</td>\n",
       "      <td>440.000000</td>\n",
       "      <td>440.000000</td>\n",
       "      <td>440.000000</td>\n",
       "      <td>440.000000</td>\n",
       "    </tr>\n",
       "    <tr>\n",
       "      <th>mean</th>\n",
       "      <td>1.322727</td>\n",
       "      <td>2.543182</td>\n",
       "      <td>12000.297727</td>\n",
       "      <td>5796.265909</td>\n",
       "      <td>7951.277273</td>\n",
       "      <td>3071.931818</td>\n",
       "      <td>2881.493182</td>\n",
       "      <td>1524.870455</td>\n",
       "    </tr>\n",
       "    <tr>\n",
       "      <th>std</th>\n",
       "      <td>0.468052</td>\n",
       "      <td>0.774272</td>\n",
       "      <td>12647.328865</td>\n",
       "      <td>7380.377175</td>\n",
       "      <td>9503.162829</td>\n",
       "      <td>4854.673333</td>\n",
       "      <td>4767.854448</td>\n",
       "      <td>2820.105937</td>\n",
       "    </tr>\n",
       "    <tr>\n",
       "      <th>min</th>\n",
       "      <td>1.000000</td>\n",
       "      <td>1.000000</td>\n",
       "      <td>3.000000</td>\n",
       "      <td>55.000000</td>\n",
       "      <td>3.000000</td>\n",
       "      <td>25.000000</td>\n",
       "      <td>3.000000</td>\n",
       "      <td>3.000000</td>\n",
       "    </tr>\n",
       "    <tr>\n",
       "      <th>25%</th>\n",
       "      <td>1.000000</td>\n",
       "      <td>2.000000</td>\n",
       "      <td>3127.750000</td>\n",
       "      <td>1533.000000</td>\n",
       "      <td>2153.000000</td>\n",
       "      <td>742.250000</td>\n",
       "      <td>256.750000</td>\n",
       "      <td>408.250000</td>\n",
       "    </tr>\n",
       "    <tr>\n",
       "      <th>50%</th>\n",
       "      <td>1.000000</td>\n",
       "      <td>3.000000</td>\n",
       "      <td>8504.000000</td>\n",
       "      <td>3627.000000</td>\n",
       "      <td>4755.500000</td>\n",
       "      <td>1526.000000</td>\n",
       "      <td>816.500000</td>\n",
       "      <td>965.500000</td>\n",
       "    </tr>\n",
       "    <tr>\n",
       "      <th>75%</th>\n",
       "      <td>2.000000</td>\n",
       "      <td>3.000000</td>\n",
       "      <td>16933.750000</td>\n",
       "      <td>7190.250000</td>\n",
       "      <td>10655.750000</td>\n",
       "      <td>3554.250000</td>\n",
       "      <td>3922.000000</td>\n",
       "      <td>1820.250000</td>\n",
       "    </tr>\n",
       "    <tr>\n",
       "      <th>max</th>\n",
       "      <td>2.000000</td>\n",
       "      <td>3.000000</td>\n",
       "      <td>112151.000000</td>\n",
       "      <td>73498.000000</td>\n",
       "      <td>92780.000000</td>\n",
       "      <td>60869.000000</td>\n",
       "      <td>40827.000000</td>\n",
       "      <td>47943.000000</td>\n",
       "    </tr>\n",
       "  </tbody>\n",
       "</table>\n",
       "</div>"
      ],
      "text/plain": [
       "          Channel      Region          Fresh          Milk       Grocery  \\\n",
       "count  440.000000  440.000000     440.000000    440.000000    440.000000   \n",
       "mean     1.322727    2.543182   12000.297727   5796.265909   7951.277273   \n",
       "std      0.468052    0.774272   12647.328865   7380.377175   9503.162829   \n",
       "min      1.000000    1.000000       3.000000     55.000000      3.000000   \n",
       "25%      1.000000    2.000000    3127.750000   1533.000000   2153.000000   \n",
       "50%      1.000000    3.000000    8504.000000   3627.000000   4755.500000   \n",
       "75%      2.000000    3.000000   16933.750000   7190.250000  10655.750000   \n",
       "max      2.000000    3.000000  112151.000000  73498.000000  92780.000000   \n",
       "\n",
       "             Frozen  Detergents_Paper    Delicassen  \n",
       "count    440.000000        440.000000    440.000000  \n",
       "mean    3071.931818       2881.493182   1524.870455  \n",
       "std     4854.673333       4767.854448   2820.105937  \n",
       "min       25.000000          3.000000      3.000000  \n",
       "25%      742.250000        256.750000    408.250000  \n",
       "50%     1526.000000        816.500000    965.500000  \n",
       "75%     3554.250000       3922.000000   1820.250000  \n",
       "max    60869.000000      40827.000000  47943.000000  "
      ]
     },
     "execution_count": 2,
     "metadata": {},
     "output_type": "execute_result"
    }
   ],
   "source": [
    "df.describe() #データの観察"
   ]
  },
  {
   "cell_type": "code",
   "execution_count": 3,
   "metadata": {},
   "outputs": [
    {
     "data": {
      "text/html": [
       "<div>\n",
       "<style scoped>\n",
       "    .dataframe tbody tr th:only-of-type {\n",
       "        vertical-align: middle;\n",
       "    }\n",
       "\n",
       "    .dataframe tbody tr th {\n",
       "        vertical-align: top;\n",
       "    }\n",
       "\n",
       "    .dataframe thead th {\n",
       "        text-align: right;\n",
       "    }\n",
       "</style>\n",
       "<table border=\"1\" class=\"dataframe\">\n",
       "  <thead>\n",
       "    <tr style=\"text-align: right;\">\n",
       "      <th></th>\n",
       "      <th>Total</th>\n",
       "    </tr>\n",
       "    <tr>\n",
       "      <th>Region</th>\n",
       "      <th></th>\n",
       "    </tr>\n",
       "  </thead>\n",
       "  <tbody>\n",
       "    <tr>\n",
       "      <th>1</th>\n",
       "      <td>77</td>\n",
       "    </tr>\n",
       "    <tr>\n",
       "      <th>2</th>\n",
       "      <td>47</td>\n",
       "    </tr>\n",
       "    <tr>\n",
       "      <th>3</th>\n",
       "      <td>316</td>\n",
       "    </tr>\n",
       "  </tbody>\n",
       "</table>\n",
       "</div>"
      ],
      "text/plain": [
       "        Total\n",
       "Region       \n",
       "1          77\n",
       "2          47\n",
       "3         316"
      ]
     },
     "execution_count": 3,
     "metadata": {},
     "output_type": "execute_result"
    }
   ],
   "source": [
    "df['Total'] = df[['Fresh','Milk','Grocery','Frozen','Detergents_Paper','Delicassen']].sum(axis=1)\n",
    "df[['Region','Total']].groupby(['Region']).count()\n",
    "#1:Lisbon, 2:Operto, 3:Other Regions"
   ]
  },
  {
   "cell_type": "code",
   "execution_count": 4,
   "metadata": {},
   "outputs": [
    {
     "data": {
      "text/html": [
       "<div>\n",
       "<style scoped>\n",
       "    .dataframe tbody tr th:only-of-type {\n",
       "        vertical-align: middle;\n",
       "    }\n",
       "\n",
       "    .dataframe tbody tr th {\n",
       "        vertical-align: top;\n",
       "    }\n",
       "\n",
       "    .dataframe thead th {\n",
       "        text-align: right;\n",
       "    }\n",
       "</style>\n",
       "<table border=\"1\" class=\"dataframe\">\n",
       "  <thead>\n",
       "    <tr style=\"text-align: right;\">\n",
       "      <th></th>\n",
       "      <th>Fresh</th>\n",
       "      <th>Milk</th>\n",
       "      <th>Grocery</th>\n",
       "      <th>Frozen</th>\n",
       "      <th>Detergents_Paper</th>\n",
       "      <th>Delicassen</th>\n",
       "      <th>Total</th>\n",
       "    </tr>\n",
       "    <tr>\n",
       "      <th>Region</th>\n",
       "      <th></th>\n",
       "      <th></th>\n",
       "      <th></th>\n",
       "      <th></th>\n",
       "      <th></th>\n",
       "      <th></th>\n",
       "      <th></th>\n",
       "    </tr>\n",
       "  </thead>\n",
       "  <tbody>\n",
       "    <tr>\n",
       "      <th>1</th>\n",
       "      <td>854833</td>\n",
       "      <td>422454</td>\n",
       "      <td>570037</td>\n",
       "      <td>231026</td>\n",
       "      <td>204136</td>\n",
       "      <td>104327</td>\n",
       "      <td>2386813</td>\n",
       "    </tr>\n",
       "    <tr>\n",
       "      <th>2</th>\n",
       "      <td>464721</td>\n",
       "      <td>239144</td>\n",
       "      <td>433274</td>\n",
       "      <td>190132</td>\n",
       "      <td>173311</td>\n",
       "      <td>54506</td>\n",
       "      <td>1555088</td>\n",
       "    </tr>\n",
       "    <tr>\n",
       "      <th>3</th>\n",
       "      <td>3960577</td>\n",
       "      <td>1888759</td>\n",
       "      <td>2495251</td>\n",
       "      <td>930492</td>\n",
       "      <td>890410</td>\n",
       "      <td>512110</td>\n",
       "      <td>10677599</td>\n",
       "    </tr>\n",
       "  </tbody>\n",
       "</table>\n",
       "</div>"
      ],
      "text/plain": [
       "          Fresh     Milk  Grocery  Frozen  Detergents_Paper  Delicassen  \\\n",
       "Region                                                                    \n",
       "1        854833   422454   570037  231026            204136      104327   \n",
       "2        464721   239144   433274  190132            173311       54506   \n",
       "3       3960577  1888759  2495251  930492            890410      512110   \n",
       "\n",
       "           Total  \n",
       "Region            \n",
       "1        2386813  \n",
       "2        1555088  \n",
       "3       10677599  "
      ]
     },
     "execution_count": 4,
     "metadata": {},
     "output_type": "execute_result"
    }
   ],
   "source": [
    "df.drop('Channel',axis=1).groupby(['Region']).sum()\n",
    "#Regionごとの合計金額"
   ]
  },
  {
   "cell_type": "code",
   "execution_count": 5,
   "metadata": {},
   "outputs": [
    {
     "data": {
      "text/html": [
       "<div>\n",
       "<style scoped>\n",
       "    .dataframe tbody tr th:only-of-type {\n",
       "        vertical-align: middle;\n",
       "    }\n",
       "\n",
       "    .dataframe tbody tr th {\n",
       "        vertical-align: top;\n",
       "    }\n",
       "\n",
       "    .dataframe thead th {\n",
       "        text-align: right;\n",
       "    }\n",
       "</style>\n",
       "<table border=\"1\" class=\"dataframe\">\n",
       "  <thead>\n",
       "    <tr style=\"text-align: right;\">\n",
       "      <th></th>\n",
       "      <th>Fresh</th>\n",
       "      <th>Milk</th>\n",
       "      <th>Grocery</th>\n",
       "      <th>Frozen</th>\n",
       "      <th>Detergents_Paper</th>\n",
       "      <th>Delicassen</th>\n",
       "      <th>Total</th>\n",
       "    </tr>\n",
       "    <tr>\n",
       "      <th>Region</th>\n",
       "      <th></th>\n",
       "      <th></th>\n",
       "      <th></th>\n",
       "      <th></th>\n",
       "      <th></th>\n",
       "      <th></th>\n",
       "      <th></th>\n",
       "    </tr>\n",
       "  </thead>\n",
       "  <tbody>\n",
       "    <tr>\n",
       "      <th>1</th>\n",
       "      <td>11101.727273</td>\n",
       "      <td>5486.415584</td>\n",
       "      <td>7403.077922</td>\n",
       "      <td>3000.337662</td>\n",
       "      <td>2651.116883</td>\n",
       "      <td>1354.896104</td>\n",
       "      <td>30997.571429</td>\n",
       "    </tr>\n",
       "    <tr>\n",
       "      <th>2</th>\n",
       "      <td>9887.680851</td>\n",
       "      <td>5088.170213</td>\n",
       "      <td>9218.595745</td>\n",
       "      <td>4045.361702</td>\n",
       "      <td>3687.468085</td>\n",
       "      <td>1159.702128</td>\n",
       "      <td>33086.978723</td>\n",
       "    </tr>\n",
       "    <tr>\n",
       "      <th>3</th>\n",
       "      <td>12533.471519</td>\n",
       "      <td>5977.085443</td>\n",
       "      <td>7896.363924</td>\n",
       "      <td>2944.594937</td>\n",
       "      <td>2817.753165</td>\n",
       "      <td>1620.601266</td>\n",
       "      <td>33789.870253</td>\n",
       "    </tr>\n",
       "  </tbody>\n",
       "</table>\n",
       "</div>"
      ],
      "text/plain": [
       "               Fresh         Milk      Grocery       Frozen  Detergents_Paper  \\\n",
       "Region                                                                          \n",
       "1       11101.727273  5486.415584  7403.077922  3000.337662       2651.116883   \n",
       "2        9887.680851  5088.170213  9218.595745  4045.361702       3687.468085   \n",
       "3       12533.471519  5977.085443  7896.363924  2944.594937       2817.753165   \n",
       "\n",
       "         Delicassen         Total  \n",
       "Region                             \n",
       "1       1354.896104  30997.571429  \n",
       "2       1159.702128  33086.978723  \n",
       "3       1620.601266  33789.870253  "
      ]
     },
     "execution_count": 5,
     "metadata": {},
     "output_type": "execute_result"
    }
   ],
   "source": [
    "df.drop('Channel',axis=1).groupby(['Region']).mean()\n",
    "#Regionごとの平均額\n",
    "#1:Grocery,Detergents_paper少なめ、2:Grocery,Frozen,Detergent_paper多め、3:Grocery,Frozen,D_P以外は多い"
   ]
  },
  {
   "cell_type": "code",
   "execution_count": 6,
   "metadata": {},
   "outputs": [
    {
     "data": {
      "text/html": [
       "<div>\n",
       "<style scoped>\n",
       "    .dataframe tbody tr th:only-of-type {\n",
       "        vertical-align: middle;\n",
       "    }\n",
       "\n",
       "    .dataframe tbody tr th {\n",
       "        vertical-align: top;\n",
       "    }\n",
       "\n",
       "    .dataframe thead th {\n",
       "        text-align: right;\n",
       "    }\n",
       "</style>\n",
       "<table border=\"1\" class=\"dataframe\">\n",
       "  <thead>\n",
       "    <tr style=\"text-align: right;\">\n",
       "      <th></th>\n",
       "      <th>Total</th>\n",
       "    </tr>\n",
       "    <tr>\n",
       "      <th>Channel</th>\n",
       "      <th></th>\n",
       "    </tr>\n",
       "  </thead>\n",
       "  <tbody>\n",
       "    <tr>\n",
       "      <th>1</th>\n",
       "      <td>298</td>\n",
       "    </tr>\n",
       "    <tr>\n",
       "      <th>2</th>\n",
       "      <td>142</td>\n",
       "    </tr>\n",
       "  </tbody>\n",
       "</table>\n",
       "</div>"
      ],
      "text/plain": [
       "         Total\n",
       "Channel       \n",
       "1          298\n",
       "2          142"
      ]
     },
     "execution_count": 6,
     "metadata": {},
     "output_type": "execute_result"
    }
   ],
   "source": [
    "#Channelごとに観察（1:Horeca,2:Retail）\n",
    "df[['Channel','Total']].groupby(['Channel']).count()"
   ]
  },
  {
   "cell_type": "code",
   "execution_count": 7,
   "metadata": {},
   "outputs": [
    {
     "data": {
      "text/html": [
       "<div>\n",
       "<style scoped>\n",
       "    .dataframe tbody tr th:only-of-type {\n",
       "        vertical-align: middle;\n",
       "    }\n",
       "\n",
       "    .dataframe tbody tr th {\n",
       "        vertical-align: top;\n",
       "    }\n",
       "\n",
       "    .dataframe thead th {\n",
       "        text-align: right;\n",
       "    }\n",
       "</style>\n",
       "<table border=\"1\" class=\"dataframe\">\n",
       "  <thead>\n",
       "    <tr style=\"text-align: right;\">\n",
       "      <th></th>\n",
       "      <th>Fresh</th>\n",
       "      <th>Milk</th>\n",
       "      <th>Grocery</th>\n",
       "      <th>Frozen</th>\n",
       "      <th>Detergents_Paper</th>\n",
       "      <th>Delicassen</th>\n",
       "      <th>Total</th>\n",
       "    </tr>\n",
       "    <tr>\n",
       "      <th>Channel</th>\n",
       "      <th></th>\n",
       "      <th></th>\n",
       "      <th></th>\n",
       "      <th></th>\n",
       "      <th></th>\n",
       "      <th></th>\n",
       "      <th></th>\n",
       "    </tr>\n",
       "  </thead>\n",
       "  <tbody>\n",
       "    <tr>\n",
       "      <th>1</th>\n",
       "      <td>4015717</td>\n",
       "      <td>1028614</td>\n",
       "      <td>1180717</td>\n",
       "      <td>1116979</td>\n",
       "      <td>235587</td>\n",
       "      <td>421955</td>\n",
       "      <td>7999569</td>\n",
       "    </tr>\n",
       "    <tr>\n",
       "      <th>2</th>\n",
       "      <td>1264414</td>\n",
       "      <td>1521743</td>\n",
       "      <td>2317845</td>\n",
       "      <td>234671</td>\n",
       "      <td>1032270</td>\n",
       "      <td>248988</td>\n",
       "      <td>6619931</td>\n",
       "    </tr>\n",
       "  </tbody>\n",
       "</table>\n",
       "</div>"
      ],
      "text/plain": [
       "           Fresh     Milk  Grocery   Frozen  Detergents_Paper  Delicassen  \\\n",
       "Channel                                                                     \n",
       "1        4015717  1028614  1180717  1116979            235587      421955   \n",
       "2        1264414  1521743  2317845   234671           1032270      248988   \n",
       "\n",
       "           Total  \n",
       "Channel           \n",
       "1        7999569  \n",
       "2        6619931  "
      ]
     },
     "execution_count": 7,
     "metadata": {},
     "output_type": "execute_result"
    }
   ],
   "source": [
    "#Channelごとの合計金額\n",
    "df.drop('Region',axis=1).groupby(['Channel']).sum()"
   ]
  },
  {
   "cell_type": "code",
   "execution_count": 8,
   "metadata": {},
   "outputs": [
    {
     "data": {
      "text/html": [
       "<div>\n",
       "<style scoped>\n",
       "    .dataframe tbody tr th:only-of-type {\n",
       "        vertical-align: middle;\n",
       "    }\n",
       "\n",
       "    .dataframe tbody tr th {\n",
       "        vertical-align: top;\n",
       "    }\n",
       "\n",
       "    .dataframe thead th {\n",
       "        text-align: right;\n",
       "    }\n",
       "</style>\n",
       "<table border=\"1\" class=\"dataframe\">\n",
       "  <thead>\n",
       "    <tr style=\"text-align: right;\">\n",
       "      <th></th>\n",
       "      <th>Fresh</th>\n",
       "      <th>Milk</th>\n",
       "      <th>Grocery</th>\n",
       "      <th>Frozen</th>\n",
       "      <th>Detergents_Paper</th>\n",
       "      <th>Delicassen</th>\n",
       "      <th>Total</th>\n",
       "    </tr>\n",
       "    <tr>\n",
       "      <th>Channel</th>\n",
       "      <th></th>\n",
       "      <th></th>\n",
       "      <th></th>\n",
       "      <th></th>\n",
       "      <th></th>\n",
       "      <th></th>\n",
       "      <th></th>\n",
       "    </tr>\n",
       "  </thead>\n",
       "  <tbody>\n",
       "    <tr>\n",
       "      <th>1</th>\n",
       "      <td>13475.560403</td>\n",
       "      <td>3451.724832</td>\n",
       "      <td>3962.137584</td>\n",
       "      <td>3748.251678</td>\n",
       "      <td>790.560403</td>\n",
       "      <td>1415.956376</td>\n",
       "      <td>26844.191275</td>\n",
       "    </tr>\n",
       "    <tr>\n",
       "      <th>2</th>\n",
       "      <td>8904.323944</td>\n",
       "      <td>10716.500000</td>\n",
       "      <td>16322.852113</td>\n",
       "      <td>1652.612676</td>\n",
       "      <td>7269.507042</td>\n",
       "      <td>1753.436620</td>\n",
       "      <td>46619.232394</td>\n",
       "    </tr>\n",
       "  </tbody>\n",
       "</table>\n",
       "</div>"
      ],
      "text/plain": [
       "                Fresh          Milk       Grocery       Frozen  \\\n",
       "Channel                                                          \n",
       "1        13475.560403   3451.724832   3962.137584  3748.251678   \n",
       "2         8904.323944  10716.500000  16322.852113  1652.612676   \n",
       "\n",
       "         Detergents_Paper   Delicassen         Total  \n",
       "Channel                                               \n",
       "1              790.560403  1415.956376  26844.191275  \n",
       "2             7269.507042  1753.436620  46619.232394  "
      ]
     },
     "execution_count": 8,
     "metadata": {},
     "output_type": "execute_result"
    }
   ],
   "source": [
    "#Channelごとの平均額\n",
    "#Fresh,FrozenではHoreca,それ以外ではRetailの圧勝（ポルトガルの食生活が不明なため分析はできなかった）\n",
    "df.drop('Region',axis=1).groupby(['Channel']).mean()"
   ]
  },
  {
   "cell_type": "code",
   "execution_count": 9,
   "metadata": {},
   "outputs": [
    {
     "data": {
      "text/html": [
       "<div>\n",
       "<style scoped>\n",
       "    .dataframe tbody tr th:only-of-type {\n",
       "        vertical-align: middle;\n",
       "    }\n",
       "\n",
       "    .dataframe tbody tr th {\n",
       "        vertical-align: top;\n",
       "    }\n",
       "\n",
       "    .dataframe thead th {\n",
       "        text-align: right;\n",
       "    }\n",
       "</style>\n",
       "<table border=\"1\" class=\"dataframe\">\n",
       "  <thead>\n",
       "    <tr style=\"text-align: right;\">\n",
       "      <th></th>\n",
       "      <th></th>\n",
       "      <th>Total</th>\n",
       "    </tr>\n",
       "    <tr>\n",
       "      <th>Region</th>\n",
       "      <th>Channel</th>\n",
       "      <th></th>\n",
       "    </tr>\n",
       "  </thead>\n",
       "  <tbody>\n",
       "    <tr>\n",
       "      <th rowspan=\"2\" valign=\"top\">1</th>\n",
       "      <th>1</th>\n",
       "      <td>59</td>\n",
       "    </tr>\n",
       "    <tr>\n",
       "      <th>2</th>\n",
       "      <td>18</td>\n",
       "    </tr>\n",
       "    <tr>\n",
       "      <th rowspan=\"2\" valign=\"top\">2</th>\n",
       "      <th>1</th>\n",
       "      <td>28</td>\n",
       "    </tr>\n",
       "    <tr>\n",
       "      <th>2</th>\n",
       "      <td>19</td>\n",
       "    </tr>\n",
       "    <tr>\n",
       "      <th rowspan=\"2\" valign=\"top\">3</th>\n",
       "      <th>1</th>\n",
       "      <td>211</td>\n",
       "    </tr>\n",
       "    <tr>\n",
       "      <th>2</th>\n",
       "      <td>105</td>\n",
       "    </tr>\n",
       "  </tbody>\n",
       "</table>\n",
       "</div>"
      ],
      "text/plain": [
       "                Total\n",
       "Region Channel       \n",
       "1      1           59\n",
       "       2           18\n",
       "2      1           28\n",
       "       2           19\n",
       "3      1          211\n",
       "       2          105"
      ]
     },
     "execution_count": 9,
     "metadata": {},
     "output_type": "execute_result"
    }
   ],
   "source": [
    "#サンプル数\n",
    "df[['Region','Channel','Total']].groupby(['Region','Channel']).count()"
   ]
  },
  {
   "cell_type": "code",
   "execution_count": 10,
   "metadata": {},
   "outputs": [
    {
     "data": {
      "text/html": [
       "<div>\n",
       "<style scoped>\n",
       "    .dataframe tbody tr th:only-of-type {\n",
       "        vertical-align: middle;\n",
       "    }\n",
       "\n",
       "    .dataframe tbody tr th {\n",
       "        vertical-align: top;\n",
       "    }\n",
       "\n",
       "    .dataframe thead th {\n",
       "        text-align: right;\n",
       "    }\n",
       "</style>\n",
       "<table border=\"1\" class=\"dataframe\">\n",
       "  <thead>\n",
       "    <tr style=\"text-align: right;\">\n",
       "      <th></th>\n",
       "      <th></th>\n",
       "      <th>Fresh</th>\n",
       "      <th>Milk</th>\n",
       "      <th>Grocery</th>\n",
       "      <th>Frozen</th>\n",
       "      <th>Detergents_Paper</th>\n",
       "      <th>Delicassen</th>\n",
       "      <th>Total</th>\n",
       "    </tr>\n",
       "    <tr>\n",
       "      <th>Region</th>\n",
       "      <th>Channel</th>\n",
       "      <th></th>\n",
       "      <th></th>\n",
       "      <th></th>\n",
       "      <th></th>\n",
       "      <th></th>\n",
       "      <th></th>\n",
       "      <th></th>\n",
       "    </tr>\n",
       "  </thead>\n",
       "  <tbody>\n",
       "    <tr>\n",
       "      <th rowspan=\"2\" valign=\"top\">1</th>\n",
       "      <th>1</th>\n",
       "      <td>761233</td>\n",
       "      <td>228342</td>\n",
       "      <td>237542</td>\n",
       "      <td>184512</td>\n",
       "      <td>56081</td>\n",
       "      <td>70632</td>\n",
       "      <td>1538342</td>\n",
       "    </tr>\n",
       "    <tr>\n",
       "      <th>2</th>\n",
       "      <td>93600</td>\n",
       "      <td>194112</td>\n",
       "      <td>332495</td>\n",
       "      <td>46514</td>\n",
       "      <td>148055</td>\n",
       "      <td>33695</td>\n",
       "      <td>848471</td>\n",
       "    </tr>\n",
       "    <tr>\n",
       "      <th rowspan=\"2\" valign=\"top\">2</th>\n",
       "      <th>1</th>\n",
       "      <td>326215</td>\n",
       "      <td>64519</td>\n",
       "      <td>123074</td>\n",
       "      <td>160861</td>\n",
       "      <td>13516</td>\n",
       "      <td>30965</td>\n",
       "      <td>719150</td>\n",
       "    </tr>\n",
       "    <tr>\n",
       "      <th>2</th>\n",
       "      <td>138506</td>\n",
       "      <td>174625</td>\n",
       "      <td>310200</td>\n",
       "      <td>29271</td>\n",
       "      <td>159795</td>\n",
       "      <td>23541</td>\n",
       "      <td>835938</td>\n",
       "    </tr>\n",
       "    <tr>\n",
       "      <th rowspan=\"2\" valign=\"top\">3</th>\n",
       "      <th>1</th>\n",
       "      <td>2928269</td>\n",
       "      <td>735753</td>\n",
       "      <td>820101</td>\n",
       "      <td>771606</td>\n",
       "      <td>165990</td>\n",
       "      <td>320358</td>\n",
       "      <td>5742077</td>\n",
       "    </tr>\n",
       "    <tr>\n",
       "      <th>2</th>\n",
       "      <td>1032308</td>\n",
       "      <td>1153006</td>\n",
       "      <td>1675150</td>\n",
       "      <td>158886</td>\n",
       "      <td>724420</td>\n",
       "      <td>191752</td>\n",
       "      <td>4935522</td>\n",
       "    </tr>\n",
       "  </tbody>\n",
       "</table>\n",
       "</div>"
      ],
      "text/plain": [
       "                  Fresh     Milk  Grocery  Frozen  Detergents_Paper  \\\n",
       "Region Channel                                                        \n",
       "1      1         761233   228342   237542  184512             56081   \n",
       "       2          93600   194112   332495   46514            148055   \n",
       "2      1         326215    64519   123074  160861             13516   \n",
       "       2         138506   174625   310200   29271            159795   \n",
       "3      1        2928269   735753   820101  771606            165990   \n",
       "       2        1032308  1153006  1675150  158886            724420   \n",
       "\n",
       "                Delicassen    Total  \n",
       "Region Channel                       \n",
       "1      1             70632  1538342  \n",
       "       2             33695   848471  \n",
       "2      1             30965   719150  \n",
       "       2             23541   835938  \n",
       "3      1            320358  5742077  \n",
       "       2            191752  4935522  "
      ]
     },
     "execution_count": 10,
     "metadata": {},
     "output_type": "execute_result"
    }
   ],
   "source": [
    "df.groupby(['Region','Channel']).sum()"
   ]
  },
  {
   "cell_type": "code",
   "execution_count": 11,
   "metadata": {},
   "outputs": [
    {
     "data": {
      "text/html": [
       "<div>\n",
       "<style scoped>\n",
       "    .dataframe tbody tr th:only-of-type {\n",
       "        vertical-align: middle;\n",
       "    }\n",
       "\n",
       "    .dataframe tbody tr th {\n",
       "        vertical-align: top;\n",
       "    }\n",
       "\n",
       "    .dataframe thead th {\n",
       "        text-align: right;\n",
       "    }\n",
       "</style>\n",
       "<table border=\"1\" class=\"dataframe\">\n",
       "  <thead>\n",
       "    <tr style=\"text-align: right;\">\n",
       "      <th></th>\n",
       "      <th></th>\n",
       "      <th>Fresh</th>\n",
       "      <th>Milk</th>\n",
       "      <th>Grocery</th>\n",
       "      <th>Frozen</th>\n",
       "      <th>Detergents_Paper</th>\n",
       "      <th>Delicassen</th>\n",
       "      <th>Total</th>\n",
       "    </tr>\n",
       "    <tr>\n",
       "      <th>Region</th>\n",
       "      <th>Channel</th>\n",
       "      <th></th>\n",
       "      <th></th>\n",
       "      <th></th>\n",
       "      <th></th>\n",
       "      <th></th>\n",
       "      <th></th>\n",
       "      <th></th>\n",
       "    </tr>\n",
       "  </thead>\n",
       "  <tbody>\n",
       "    <tr>\n",
       "      <th rowspan=\"2\" valign=\"top\">1</th>\n",
       "      <th>1</th>\n",
       "      <td>12902.254237</td>\n",
       "      <td>3870.203390</td>\n",
       "      <td>4026.135593</td>\n",
       "      <td>3127.322034</td>\n",
       "      <td>950.525424</td>\n",
       "      <td>1197.152542</td>\n",
       "      <td>26073.593220</td>\n",
       "    </tr>\n",
       "    <tr>\n",
       "      <th>2</th>\n",
       "      <td>5200.000000</td>\n",
       "      <td>10784.000000</td>\n",
       "      <td>18471.944444</td>\n",
       "      <td>2584.111111</td>\n",
       "      <td>8225.277778</td>\n",
       "      <td>1871.944444</td>\n",
       "      <td>47137.277778</td>\n",
       "    </tr>\n",
       "    <tr>\n",
       "      <th rowspan=\"2\" valign=\"top\">2</th>\n",
       "      <th>1</th>\n",
       "      <td>11650.535714</td>\n",
       "      <td>2304.250000</td>\n",
       "      <td>4395.500000</td>\n",
       "      <td>5745.035714</td>\n",
       "      <td>482.714286</td>\n",
       "      <td>1105.892857</td>\n",
       "      <td>25683.928571</td>\n",
       "    </tr>\n",
       "    <tr>\n",
       "      <th>2</th>\n",
       "      <td>7289.789474</td>\n",
       "      <td>9190.789474</td>\n",
       "      <td>16326.315789</td>\n",
       "      <td>1540.578947</td>\n",
       "      <td>8410.263158</td>\n",
       "      <td>1239.000000</td>\n",
       "      <td>43996.736842</td>\n",
       "    </tr>\n",
       "    <tr>\n",
       "      <th rowspan=\"2\" valign=\"top\">3</th>\n",
       "      <th>1</th>\n",
       "      <td>13878.052133</td>\n",
       "      <td>3486.981043</td>\n",
       "      <td>3886.734597</td>\n",
       "      <td>3656.900474</td>\n",
       "      <td>786.682464</td>\n",
       "      <td>1518.284360</td>\n",
       "      <td>27213.635071</td>\n",
       "    </tr>\n",
       "    <tr>\n",
       "      <th>2</th>\n",
       "      <td>9831.504762</td>\n",
       "      <td>10981.009524</td>\n",
       "      <td>15953.809524</td>\n",
       "      <td>1513.200000</td>\n",
       "      <td>6899.238095</td>\n",
       "      <td>1826.209524</td>\n",
       "      <td>47004.971429</td>\n",
       "    </tr>\n",
       "  </tbody>\n",
       "</table>\n",
       "</div>"
      ],
      "text/plain": [
       "                       Fresh          Milk       Grocery       Frozen  \\\n",
       "Region Channel                                                          \n",
       "1      1        12902.254237   3870.203390   4026.135593  3127.322034   \n",
       "       2         5200.000000  10784.000000  18471.944444  2584.111111   \n",
       "2      1        11650.535714   2304.250000   4395.500000  5745.035714   \n",
       "       2         7289.789474   9190.789474  16326.315789  1540.578947   \n",
       "3      1        13878.052133   3486.981043   3886.734597  3656.900474   \n",
       "       2         9831.504762  10981.009524  15953.809524  1513.200000   \n",
       "\n",
       "                Detergents_Paper   Delicassen         Total  \n",
       "Region Channel                                               \n",
       "1      1              950.525424  1197.152542  26073.593220  \n",
       "       2             8225.277778  1871.944444  47137.277778  \n",
       "2      1              482.714286  1105.892857  25683.928571  \n",
       "       2             8410.263158  1239.000000  43996.736842  \n",
       "3      1              786.682464  1518.284360  27213.635071  \n",
       "       2             6899.238095  1826.209524  47004.971429  "
      ]
     },
     "execution_count": 11,
     "metadata": {},
     "output_type": "execute_result"
    }
   ],
   "source": [
    "df.groupby(['Region','Channel']).mean()"
   ]
  },
  {
   "cell_type": "code",
   "execution_count": 12,
   "metadata": {},
   "outputs": [
    {
     "data": {
      "image/png": "[encoded data removed]",
      "text/plain": [
       "<matplotlib.figure.Figure at 0x11082c3c8>"
      ]
     },
     "metadata": {},
     "output_type": "display_data"
    }
   ],
   "source": [
    "v = df.groupby(['Region','Channel']).mean().values\n",
    "plt.plot(v)\n",
    "plt.show()"
   ]
  },
  {
   "cell_type": "code",
   "execution_count": 13,
   "metadata": {},
   "outputs": [],
   "source": [
    "#外れ値除去\n",
    "df = df.loc[df.Milk<20000]\n",
    "df = df.loc[df.Grocery<30000]\n",
    "df = df.loc[df.Frozen<15000]\n",
    "df = df.loc[df.Detergents_Paper<16000]\n",
    "df = df.loc[df.Delicassen<5000]\n",
    "df = df.loc[df.Fresh<35000]"
   ]
  },
  {
   "cell_type": "code",
   "execution_count": 14,
   "metadata": {},
   "outputs": [],
   "source": [
    "#Channelごと、Regionごとに分けてクラスタリングしてみる\n",
    "df_r1 = df.loc[df.Region == 1]\n",
    "df_r2 = df.loc[df.Region == 2]\n",
    "df_r3 = df.loc[df.Region == 3]\n",
    "\n",
    "df_c1 = df.loc[df.Channel == 1]\n",
    "df_c2 = df.loc[df.Channel == 2]"
   ]
  },
  {
   "cell_type": "code",
   "execution_count": 15,
   "metadata": {},
   "outputs": [],
   "source": [
    "X_r1 = df_r1.loc[:, ['Channel', 'Fresh', 'Milk', 'Grocery', 'Frozen','Detergents_Paper', 'Delicassen']].values\n",
    "X_r2 = df_r2.loc[:, ['Channel', 'Fresh', 'Milk', 'Grocery', 'Frozen','Detergents_Paper', 'Delicassen']].values\n",
    "X_r3 = df_r3.loc[:, ['Channel', 'Fresh', 'Milk', 'Grocery', 'Frozen','Detergents_Paper', 'Delicassen']].values\n",
    "\n",
    "X_c1 = df_c1.loc[:, ['Region', 'Fresh', 'Milk', 'Grocery', 'Frozen','Detergents_Paper', 'Delicassen']].values\n",
    "X_c2 = df_c2.loc[:, ['Region', 'Fresh', 'Milk', 'Grocery', 'Frozen','Detergents_Paper', 'Delicassen']].values"
   ]
  },
  {
   "cell_type": "code",
   "execution_count": 16,
   "metadata": {},
   "outputs": [
    {
     "name": "stderr",
     "output_type": "stream",
     "text": [
      "/usr/local/Cellar/python3/3.6.3/Frameworks/Python.framework/Versions/3.6/lib/python3.6/site-packages/sklearn/utils/validation.py:475: DataConversionWarning: Data with input dtype int64 was converted to float64 by StandardScaler.\n",
      "  warnings.warn(msg, DataConversionWarning)\n"
     ]
    }
   ],
   "source": [
    "#データの標準化\n",
    "from sklearn.preprocessing import StandardScaler\n",
    "scaler = StandardScaler()\n",
    "scaler.fit(X_r1)       # 与えられた行列の各特徴量について､平均と標準偏差を算出\n",
    "scaler.fit(X_r2)    \n",
    "scaler.fit(X_r3)    \n",
    "scaler.fit(X_c1)    \n",
    "scaler.fit(X_c2)    \n",
    "X_r1_std = scaler.fit_transform(X_r1) # Xを標準化した行列を生成\n",
    "X_r2_std = scaler.fit_transform(X_r2)\n",
    "X_r3_std = scaler.fit_transform(X_r3)\n",
    "X_c1_std = scaler.fit_transform(X_c1)\n",
    "X_c2_std = scaler.fit_transform(X_c2)"
   ]
  },
  {
   "cell_type": "code",
   "execution_count": 17,
   "metadata": {},
   "outputs": [
    {
     "name": "stderr",
     "output_type": "stream",
     "text": [
      "/usr/local/Cellar/python3/3.6.3/Frameworks/Python.framework/Versions/3.6/lib/python3.6/site-packages/numpy/core/fromnumeric.py:57: FutureWarning: reshape is deprecated and will raise in a subsequent release. Please use .values.reshape(...) instead\n",
      "  return getattr(obj, method)(*args, **kwds)\n"
     ]
    },
    {
     "data": {
      "image/png": "[encoded data removed]",
      "text/plain": [
       "<matplotlib.figure.Figure at 0x115cb73c8>"
      ]
     },
     "metadata": {},
     "output_type": "display_data"
    },
    {
     "data": {
      "image/png": "[encoded data removed]",
      "text/plain": [
       "<matplotlib.figure.Figure at 0x116190400>"
      ]
     },
     "metadata": {},
     "output_type": "display_data"
    },
    {
     "data": {
      "image/png": "[encoded data removed]",
      "text/plain": [
       "<matplotlib.figure.Figure at 0x11625d9b0>"
      ]
     },
     "metadata": {},
     "output_type": "display_data"
    },
    {
     "data": {
      "image/png": "[encoded data removed]",
      "text/plain": [
       "<matplotlib.figure.Figure at 0x116358080>"
      ]
     },
     "metadata": {},
     "output_type": "display_data"
    },
    {
     "data": {
      "image/png": "[encoded data removed]",
      "text/plain": [
       "<matplotlib.figure.Figure at 0x116458d30>"
      ]
     },
     "metadata": {},
     "output_type": "display_data"
    },
    {
     "data": {
      "image/png": "[encoded data removed]",
      "text/plain": [
       "<matplotlib.figure.Figure at 0x116564b70>"
      ]
     },
     "metadata": {},
     "output_type": "display_data"
    }
   ],
   "source": [
    "#データを観察（黄色：Horeca, 青：Retail）\n",
    "#Milk,Grocery,Detergent_PaperはHorecaで少額、Retailで高額となっている（普段使いのものはRetailで購入しているのだろう）\n",
    "plt.hist([df_c1['Fresh'],df_c2['Fresh']],\n",
    "         bins=15, label=['Horeca','Retail'], color=['#FACC2E','#2E64FE'], range=(0,40000))\n",
    "plt.show()\n",
    "plt.hist([df_c1['Milk'],df_c2['Milk']],\n",
    "         bins=15, label=['Horeca','Retail'], color=['#FACC2E','#2E64FE'], range=(0,40000))\n",
    "plt.show()\n",
    "plt.hist([df_c1['Grocery'],df_c2['Grocery']],\n",
    "         bins=15, label=['Horeca','Retail'], color=['#FACC2E','#2E64FE'], range=(0,40000))\n",
    "plt.show()\n",
    "plt.hist([df_c1['Frozen'],df_c2['Frozen']],\n",
    "         bins=15, label=['Horeca','Retail'], color=['#FACC2E','#2E64FE'], range=(0,40000))\n",
    "plt.show()\n",
    "plt.hist([df_c1['Detergents_Paper'],df_c2['Detergents_Paper']],\n",
    "         bins=15, label=['Horeca','Retail'], color=['#FACC2E','#2E64FE'], range=(0,40000))\n",
    "plt.show()\n",
    "plt.hist([df_c1['Delicassen'],df_c2['Delicassen']],\n",
    "         bins=15, label=['Horeca','Retail'], color=['#FACC2E','#2E64FE'], range=(0,40000))\n",
    "plt.show()"
   ]
  },
  {
   "cell_type": "code",
   "execution_count": 18,
   "metadata": {},
   "outputs": [
    {
     "name": "stderr",
     "output_type": "stream",
     "text": [
      "/usr/local/Cellar/python3/3.6.3/Frameworks/Python.framework/Versions/3.6/lib/python3.6/site-packages/numpy/core/fromnumeric.py:57: FutureWarning: reshape is deprecated and will raise in a subsequent release. Please use .values.reshape(...) instead\n",
      "  return getattr(obj, method)(*args, **kwds)\n"
     ]
    },
    {
     "data": {
      "image/png": "[encoded data removed]",
      "text/plain": [
       "<matplotlib.figure.Figure at 0x11666fba8>"
      ]
     },
     "metadata": {},
     "output_type": "display_data"
    },
    {
     "data": {
      "image/png": "[encoded data removed]",
      "text/plain": [
       "<matplotlib.figure.Figure at 0x116792fd0>"
      ]
     },
     "metadata": {},
     "output_type": "display_data"
    },
    {
     "data": {
      "image/png": "[encoded data removed]",
      "text/plain": [
       "<matplotlib.figure.Figure at 0x116366f28>"
      ]
     },
     "metadata": {},
     "output_type": "display_data"
    },
    {
     "data": {
      "image/png": "[encoded data removed]",
      "text/plain": [
       "<matplotlib.figure.Figure at 0x1169eba58>"
      ]
     },
     "metadata": {},
     "output_type": "display_data"
    },
    {
     "data": {
      "image/png": "[encoded data removed]",
      "text/plain": [
       "<matplotlib.figure.Figure at 0x1169e5710>"
      ]
     },
     "metadata": {},
     "output_type": "display_data"
    },
    {
     "data": {
      "image/png": "[encoded data removed]",
      "text/plain": [
       "<matplotlib.figure.Figure at 0x116631da0>"
      ]
     },
     "metadata": {},
     "output_type": "display_data"
    }
   ],
   "source": [
    "plt.hist([df_r1['Fresh'],df_r2['Fresh'],df_r3['Fresh']],\n",
    "         bins=15, label=['Lisbon','Oporto','Other Region'], \n",
    "         color=['#2EFE2E','#FE2E2E','#F7FE2E'], rwidth=100, range=(0,40000))\n",
    "plt.show()\n",
    "plt.hist([df_r1['Milk'],df_r2['Milk'],df_r3['Milk']],\n",
    "         bins=15, label=['Lisbon','Oporto','Other Region'], \n",
    "         color=['#2EFE2E','#FE2E2E','#F7FE2E'], rwidth=100, range=(0,20000))\n",
    "plt.show()\n",
    "plt.hist([df_r1['Grocery'],df_r2['Grocery'],df_r3['Grocery']],\n",
    "         bins=15, label=['Lisbon','Oporto','Other Region'], \n",
    "         color=['#2EFE2E','#FE2E2E','#F7FE2E'], rwidth=100, range=(0,30000))\n",
    "plt.show()\n",
    "plt.hist([df_r1['Frozen'],df_r2['Frozen'],df_r3['Frozen']],\n",
    "         bins=15, label=['Lisbon','Oporto','Other Region'], \n",
    "         color=['#2EFE2E','#FE2E2E','#F7FE2E'], rwidth=100, range=(0,20000))\n",
    "plt.show()\n",
    "plt.hist([df_r1['Detergents_Paper'],df_r2['Detergents_Paper'],df_r3['Detergents_Paper']],\n",
    "         bins=15, label=['Lisbon','Oporto','Other Region'], \n",
    "         color=['#2EFE2E','#FE2E2E','#F7FE2E'], rwidth=100, range=(0,20000))\n",
    "plt.show()\n",
    "plt.hist([df_r1['Delicassen'],df_r2['Delicassen'],df_r3['Delicassen']],\n",
    "         bins=15, label=['Lisbon','Oporto','Other Region'], \n",
    "         color=['#2EFE2E','#FE2E2E','#F7FE2E'], rwidth=100, range=(0,10000))\n",
    "plt.show()"
   ]
  },
  {
   "cell_type": "code",
   "execution_count": 19,
   "metadata": {},
   "outputs": [
    {
     "name": "stdout",
     "output_type": "stream",
     "text": [
      "[[ 0.82872542 -0.41436534  0.85210692  0.93245296 -0.17824038  0.92158961\n",
      "   0.29800308]\n",
      " [ 0.04670517  0.57030844  0.10714178  0.08154054  0.63497112 -0.10021247\n",
      "   0.79131255]\n",
      " [-0.14851983  0.5193527   0.11821002  0.09121775 -0.73124102 -0.03772761\n",
      "   0.19104763]\n",
      " [-0.33229811 -0.48360029  0.20671841 -0.13172568 -0.13546758 -0.14622192\n",
      "   0.4439193 ]\n",
      " [ 0.36819163 -0.11105125 -0.39509851 -0.10142423 -0.1634883  -0.02561346\n",
      "   0.25019484]\n",
      " [ 0.23945051  0.0086198   0.23970475 -0.12038719 -0.01973525 -0.2950651\n",
      "  -0.0619267 ]\n",
      " [-0.02832881 -0.04688301 -0.08554904  0.29762702  0.00328102 -0.21273901\n",
      "  -0.01319879]]\n",
      "[[ 0.87021565 -0.35305981  0.88762468  0.92414848 -0.44066238  0.95480764\n",
      "   0.12021454]\n",
      " [ 0.17857427  0.43614413  0.13324746  0.06839795  0.57607929 -0.03689224\n",
      "   0.88329336]\n",
      " [-0.02102455  0.80240398  0.04461573  0.07107832 -0.50228948 -0.01649097\n",
      "  -0.07728543]\n",
      " [-0.03622485 -0.253904    0.05852135 -0.20448728 -0.49069177 -0.20064365\n",
      "   0.45134657]\n",
      " [ 0.47970597  0.03422436 -0.14282345 -0.28317307 -0.00758569 -0.012888\n",
      "  -0.06599856]\n",
      " [-0.01808696 -0.02034067 -0.43842924  0.15046173 -0.07615016  0.21977428\n",
      "   0.12703156]\n",
      " [-0.06030525  0.01492057  0.03651708 -0.12875722  0.00444892  0.15160698\n",
      "   0.01271668]]\n",
      "[[ 0.87075312 -0.26050519  0.81428327  0.93007996 -0.30363764  0.92125254\n",
      "   0.16376578]\n",
      " [ 0.0298116   0.73226725  0.26752804  0.06732189  0.6455377  -0.02753334\n",
      "   0.64553921]\n",
      " [-0.05241155 -0.148657   -0.03397896 -0.13059549 -0.5189796  -0.12828275\n",
      "   0.71225764]\n",
      " [-0.1508307  -0.61133328  0.10618416 -0.01410927  0.45891416  0.00592132\n",
      "   0.19923671]\n",
      " [-0.256424    0.02512261  0.49032938 -0.02306715 -0.1147766  -0.17885653\n",
      "  -0.1103076 ]\n",
      " [-0.39071008  0.05297569 -0.11468084  0.23472469 -0.04074794  0.22962719\n",
      "   0.03153998]\n",
      " [ 0.02670666 -0.01934792 -0.0555404   0.24749642  0.00516074 -0.23031132\n",
      "   0.00293657]]\n",
      "[[-0.05476938  0.0534998   0.76917514  0.85065807  0.02317387  0.72881228\n",
      "   0.48348533]\n",
      " [ 0.09448996  0.74510631  0.09842956 -0.09800142  0.68948758 -0.41331976\n",
      "   0.53408584]\n",
      " [-0.97933764  0.13790661 -0.06273852  0.0216716   0.10902166  0.03269674\n",
      "  -0.11903182]\n",
      " [-0.150249    0.00861212  0.11118465 -0.14844434 -0.60568417 -0.28641817\n",
      "   0.52710233]\n",
      " [-0.10025253 -0.62610208  0.27424763 -0.25062659  0.37481458 -0.11668435\n",
      "   0.22051077]\n",
      " [ 0.00794534  0.11847299  0.54354157 -0.03776719 -0.08773452 -0.2830611\n",
      "  -0.37958394]\n",
      " [-0.0099041  -0.14366311 -0.12470235  0.42877492  0.03105282 -0.35351514\n",
      "  -0.00983035]]\n",
      "[[ 0.1452686   0.53877013 -0.70487055 -0.89675119  0.28502645 -0.86887313\n",
      "   0.24173068]\n",
      " [-0.53598959  0.26037292  0.25947716  0.154647    0.7134058   0.09832881\n",
      "   0.58434757]\n",
      " [ 0.70025021  0.46673691  0.35567987  0.13921772 -0.16194956  0.04087468\n",
      "   0.43039002]\n",
      " [ 0.12523545  0.42528189  0.10323187  0.1178941   0.39725232  0.03096448\n",
      "  -0.64186471]\n",
      " [ 0.44077266 -0.45303529 -0.1520401   0.02259064  0.48216827  0.06969894\n",
      "   0.06730582]\n",
      " [-0.00489796 -0.21601321  0.522927   -0.16450454  0.04319157 -0.39803341\n",
      "  -0.08266264]\n",
      " [-0.00673252 -0.00969062 -0.10424592  0.3461804  -0.01397159 -0.27972267\n",
      "   0.01694284]]\n"
     ]
    }
   ],
   "source": [
    "# 主成分分析を実行\n",
    "from sklearn.decomposition import PCA\n",
    "pca = PCA(n_components=7) # 主成分を2つまで取得\n",
    "X_r1_pca = pca.fit_transform(X_r1_std)\n",
    "pca.components_\n",
    "np.sqrt(pca.explained_variance_)\n",
    "print(pca.components_ * np.sqrt(pca.explained_variance_)[:, np.newaxis])#因子寄与率を算出\n",
    "\n",
    "X_r2_pca = pca.fit_transform(X_r2_std)\n",
    "pca.components_\n",
    "np.sqrt(pca.explained_variance_)\n",
    "print(pca.components_ * np.sqrt(pca.explained_variance_)[:, np.newaxis])\n",
    "\n",
    "X_r3_pca = pca.fit_transform(X_r3_std)\n",
    "pca.components_\n",
    "np.sqrt(pca.explained_variance_)\n",
    "print(pca.components_ * np.sqrt(pca.explained_variance_)[:, np.newaxis])\n",
    "\n",
    "X_c1_pca = pca.fit_transform(X_c1_std)\n",
    "pca.components_\n",
    "np.sqrt(pca.explained_variance_)\n",
    "print(pca.components_ * np.sqrt(pca.explained_variance_)[:, np.newaxis])\n",
    "\n",
    "X_c2_pca = pca.fit_transform(X_c2_std)\n",
    "pca.components_\n",
    "np.sqrt(pca.explained_variance_)\n",
    "print(pca.components_ * np.sqrt(pca.explained_variance_)[:, np.newaxis])"
   ]
  },
  {
   "cell_type": "code",
   "execution_count": 20,
   "metadata": {},
   "outputs": [
    {
     "data": {
      "text/plain": [
       "'\\n以上より,\\n第一主成分は日用品(Milk,Grocery,Detergent_Paper)への支出額,\\n第二主成分は食品(Grocery,Delicassen)への支出額（地域ごとの場合）\\n    \\u3000\\u3000\\u3000 生鮮品(Fresh)への支出額（販売チャネルごとの場合）\\nであった.\\n'"
      ]
     },
     "execution_count": 20,
     "metadata": {},
     "output_type": "execute_result"
    }
   ],
   "source": [
    "\"\"\"\n",
    "以上より,\n",
    "第一主成分は日用品(Milk,Grocery,Detergent_Paper)への支出額,\n",
    "第二主成分は食品(Grocery,Delicassen)への支出額（地域ごとの場合）\n",
    "    　　　 生鮮品(Fresh)への支出額（販売チャネルごとの場合）\n",
    "であった.\n",
    "\"\"\""
   ]
  },
  {
   "cell_type": "code",
   "execution_count": 21,
   "metadata": {},
   "outputs": [],
   "source": [
    "# k-means法を実行\n",
    "from sklearn.cluster import KMeans\n",
    "km_2 = KMeans(n_clusters=2,   # クラスタの個数を指定\n",
    "            init='random',  # セントロイドの初期値の決め方を決定\n",
    "            n_init=10,      # 異なるセントロイドの初期値を用いての実行回数\n",
    "            max_iter=300,   # ひとつのセントロイドを用いたときの最大イテレーション回数\n",
    "            tol=1e-04,      # 収束と判定するための相対的な許容誤差\n",
    "            random_state=0, # セントロイドの初期化に用いる乱数生成器の状態\n",
    "           )\n",
    "\n",
    "km_3 = KMeans(n_clusters=3,   # クラスタの個数を指定\n",
    "            init='random',  # セントロイドの初期値の決め方を決定\n",
    "            n_init=10,      # 異なるセントロイドの初期値を用いての実行回数\n",
    "            max_iter=300,   # ひとつのセントロイドを用いたときの最大イテレーション回数\n",
    "            tol=1e-04,      # 収束と判定するための相対的な許容誤差\n",
    "            random_state=0, # セントロイドの初期化に用いる乱数生成器の状態\n",
    "           )\n",
    "\n",
    "km_4 = KMeans(n_clusters=4,   # クラスタの個数を指定\n",
    "            init='random',  # セントロイドの初期値の決め方を決定\n",
    "            n_init=10,      # 異なるセントロイドの初期値を用いての実行回数\n",
    "            max_iter=300,   # ひとつのセントロイドを用いたときの最大イテレーション回数\n",
    "            tol=1e-04,      # 収束と判定するための相対的な許容誤差\n",
    "            random_state=0, # セントロイドの初期化に用いる乱数生成器の状態\n",
    "           )"
   ]
  },
  {
   "cell_type": "code",
   "execution_count": 22,
   "metadata": {},
   "outputs": [],
   "source": [
    "# クラスタリングの結果を出力\n",
    "import matplotlib.pyplot as plt\n",
    "% matplotlib inline\n",
    "\n",
    "# クラスタリングの結果をプロットする関数\n",
    "# (クラスタの数, 学習器, 学習データ)\n",
    "def kmeans_plot(n_clusters, km, X):\n",
    "    # クラスタの予測値を算出\n",
    "    y_km = km.fit_predict(X)\n",
    "    \n",
    "    # クラスタごとに散布図をプロット\n",
    "    # 5クラスまでプロットできる\n",
    "    for i, color, marker in zip(range(n_clusters), 'rgbcm', '>o+xv'):\n",
    "        plt.scatter(X[y_km==i, 0],            # 横軸の値\n",
    "                    X[y_km==i, 1],            # 縦軸の値\n",
    "                    color=color,              # プロットの色\n",
    "                    marker=marker,            # プロットの形\n",
    "                    label='cluster ' + str(i) # ラベル\n",
    "                   )\n",
    "    \n",
    "    # クラスタの中心をプロット\n",
    "    plt.scatter(km.cluster_centers_[:, 0],    # 横軸の値\n",
    "                km.cluster_centers_[:, 1],    # 縦軸の値\n",
    "                color='y',                    # プロットの色\n",
    "                marker='*',                   # プロットの形\n",
    "                label='centroids',            # ラベル\n",
    "                s=300,                        # プロットのサイズを大きくして見やすくする\n",
    "               )\n",
    "    \n",
    "    plt.legend()\n",
    "    plt.grid()\n",
    "    plt.show()"
   ]
  },
  {
   "cell_type": "code",
   "execution_count": 23,
   "metadata": {},
   "outputs": [
    {
     "data": {
      "image/png": "[encoded data removed]",
      "text/plain": [
       "<matplotlib.figure.Figure at 0x116870c18>"
      ]
     },
     "metadata": {},
     "output_type": "display_data"
    },
    {
     "data": {
      "image/png": "[encoded data removed]",
      "text/plain": [
       "<matplotlib.figure.Figure at 0x116363eb8>"
      ]
     },
     "metadata": {},
     "output_type": "display_data"
    },
    {
     "data": {
      "image/png": "[encoded data removed]",
      "text/plain": [
       "<matplotlib.figure.Figure at 0x116510f60>"
      ]
     },
     "metadata": {},
     "output_type": "display_data"
    },
    {
     "data": {
      "image/png": "[encoded data removed]",
      "text/plain": [
       "<matplotlib.figure.Figure at 0x11643ee10>"
      ]
     },
     "metadata": {},
     "output_type": "display_data"
    },
    {
     "data": {
      "image/png": "[encoded data removed]",
      "text/plain": [
       "<matplotlib.figure.Figure at 0x116209b70>"
      ]
     },
     "metadata": {},
     "output_type": "display_data"
    }
   ],
   "source": [
    "# プロットを実行\n",
    "kmeans_plot(2, km_2, X_r1_pca[:, 0:3])\n",
    "kmeans_plot(2, km_2, X_r2_pca[:, 0:3])\n",
    "kmeans_plot(2, km_2, X_r3_pca[:, 0:3])\n",
    "kmeans_plot(3, km_3, X_c1_pca[:, 0:3])\n",
    "kmeans_plot(2, km_2, X_c2_pca[:, 0:3])"
   ]
  },
  {
   "cell_type": "code",
   "execution_count": 24,
   "metadata": {},
   "outputs": [],
   "source": [
    "from sklearn.metrics import silhouette_samples\n",
    "\n",
    "y_r1_km = km_2.fit_predict(X_r1_pca[:, 0:3])\n",
    "y_r2_km = km_2.fit_predict(X_r2_pca[:, 0:3])\n",
    "y_r3_km = km_2.fit_predict(X_r3_pca[:, 0:3])\n",
    "y_c1_km = km_3.fit_predict(X_c1_pca[:, 0:3])\n",
    "y_c2_km = km_2.fit_predict(X_c2_pca[:, 0:3])\n",
    "\n",
    "# 全サンプルのシルエット係数を計算\n",
    "# (X, y_km, 利用する距離の種類)\n",
    "# 'euclidiean' はユークリッド距離\n",
    "s_r1 = silhouette_samples(X_r1_pca[:, 0:3], y_r1_km, metric='euclidean')\n",
    "s_r2 = silhouette_samples(X_r2_pca[:, 0:3], y_r2_km, metric='euclidean')\n",
    "s_r3 = silhouette_samples(X_r3_pca[:, 0:3], y_r3_km, metric='euclidean')\n",
    "s_c1 = silhouette_samples(X_c1_pca[:, 0:3], y_c1_km, metric='euclidean')\n",
    "s_c2 = silhouette_samples(X_c2_pca[:, 0:3], y_c2_km, metric='euclidean')"
   ]
  },
  {
   "cell_type": "code",
   "execution_count": 25,
   "metadata": {},
   "outputs": [
    {
     "data": {
      "image/png": "[encoded data removed]",
      "text/plain": [
       "<matplotlib.figure.Figure at 0x116210e80>"
      ]
     },
     "metadata": {},
     "output_type": "display_data"
    },
    {
     "data": {
      "image/png": "[encoded data removed]",
      "text/plain": [
       "<matplotlib.figure.Figure at 0x1170c6198>"
      ]
     },
     "metadata": {},
     "output_type": "display_data"
    },
    {
     "data": {
      "image/png": "[encoded data removed]",
      "text/plain": [
       "<matplotlib.figure.Figure at 0x117a73860>"
      ]
     },
     "metadata": {},
     "output_type": "display_data"
    },
    {
     "data": {
      "image/png": "[encoded data removed]",
      "text/plain": [
       "<matplotlib.figure.Figure at 0x1168cdd30>"
      ]
     },
     "metadata": {},
     "output_type": "display_data"
    },
    {
     "data": {
      "image/png": "[encoded data removed]",
      "text/plain": [
       "<matplotlib.figure.Figure at 0x116367908>"
      ]
     },
     "metadata": {},
     "output_type": "display_data"
    }
   ],
   "source": [
    "# シルエット図を出力\n",
    "from matplotlib import cm\n",
    "\n",
    "# シルエット図を出力する関数を定義\n",
    "def draw_silhouettes(X, y_km):\n",
    "    cluster_labels = np.unique(y_km)                     # クラスラベルを重複なく抽出\n",
    "    n_clusters = cluster_labels.shape[0]                 # クラスタの数を算出\n",
    "\n",
    "    # シルエット係数を計算\n",
    "    # (X, y_km, 距離の種類)\n",
    "    s = silhouette_samples(X, y_km, metric='euclidean')\n",
    "\n",
    "    # 各ラベルごとにシルエット図を描画\n",
    "    y_ax_lower, y_ax_upper= 0, 0                         # シルエット図の上端と下端の初期値を設定\n",
    "    yticks = []                                          # 縦軸のメモリ位置を格納するリストを生成\n",
    "    for i, label in enumerate(cluster_labels):\n",
    "            label_s = s[y_km==label]                     # 該当するクラスタについて､シルエット係数を算出\n",
    "            label_s.sort()                               # シルエット係数を小さい順に並べ替える\n",
    "            y_ax_upper += len(label_s)                   # シルエット図の上端を､サンプルの数だけ引き上げる\n",
    "            color = cm.jet(float(i) / n_clusters)        # color mapから色を取得\n",
    "            plt.barh(range(y_ax_lower, y_ax_upper),      # 横軸の範囲を指定\n",
    "                             label_s,                    # バーの幅を指定\n",
    "                             height=1.0,                 # バーの厚みを指\n",
    "                             color=color)                # バーの色を指定\n",
    "            yticks.append((y_ax_lower + y_ax_upper) / 2) # クラスタラベルの表示位置を追加\n",
    "            y_ax_lower += len(label_s)                   # シルエット図の下端を､サンプルの数だけ引き上げる\n",
    "\n",
    "            \n",
    "    plt.axvline(np.mean(s), color=\"red\", linestyle=\"--\") # 係数の平均値に破線を引く(横軸の値, 色, 線の形式)\n",
    "    plt.yticks(yticks, cluster_labels + 1)               # クラスタレベルを表示(位置, 縦軸の値)\n",
    "    plt.ylabel('Cluster')\n",
    "    plt.xlabel('silhouette coefficient')\n",
    "    plt.show()\n",
    "\n",
    "# シルエット図を出力\n",
    "draw_silhouettes(X_r1_pca[:, 0:3], y_r1_km)\n",
    "draw_silhouettes(X_r2_pca[:, 0:3], y_r2_km)\n",
    "draw_silhouettes(X_r3_pca[:, 0:3], y_r3_km)\n",
    "draw_silhouettes(X_c1_pca[:, 0:3], y_c1_km)\n",
    "draw_silhouettes(X_c2_pca[:, 0:3], y_c2_km)"
   ]
  },
  {
   "cell_type": "code",
   "execution_count": 26,
   "metadata": {},
   "outputs": [
    {
     "data": {
      "image/png": "[encoded data removed]",
      "text/plain": [
       "<matplotlib.figure.Figure at 0x115f35c88>"
      ]
     },
     "metadata": {},
     "output_type": "display_data"
    },
    {
     "data": {
      "image/png": "[encoded data removed]",
      "text/plain": [
       "<matplotlib.figure.Figure at 0x115d42ac8>"
      ]
     },
     "metadata": {},
     "output_type": "display_data"
    },
    {
     "data": {
      "image/png": "[encoded data removed]",
      "text/plain": [
       "<matplotlib.figure.Figure at 0x115da8b38>"
      ]
     },
     "metadata": {},
     "output_type": "display_data"
    },
    {
     "data": {
      "image/png": "[encoded data removed]",
      "text/plain": [
       "<matplotlib.figure.Figure at 0x115ffd940>"
      ]
     },
     "metadata": {},
     "output_type": "display_data"
    },
    {
     "data": {
      "image/png": "[encoded data removed]",
      "text/plain": [
       "<matplotlib.figure.Figure at 0x115eb76d8>"
      ]
     },
     "metadata": {},
     "output_type": "display_data"
    }
   ],
   "source": [
    "# エルボー法による､適切なkの値の確認\n",
    "\n",
    "# 各kで算出されたSSEを格納するリストを定義\n",
    "distortions = []\n",
    "\n",
    "# kを変えながらk-means法を実行\n",
    "for k  in range(1,11):              # 1~10クラスタまで繰り返し計算 \n",
    "    km = KMeans(n_clusters=k,       # クラスタの数をk個に指定\n",
    "                init='random',   # セントロイドの初期値をk-means++法で設定\n",
    "                n_init=10,          # セントロイドの初期値を変えての繰り返し回数を指定\n",
    "                max_iter=300,       # 一回の最適化の繰り返し回数を指定\n",
    "                random_state=0)     # 乱数の生成状態を指定\n",
    "    \n",
    "    km.fit(X_r1_pca[:, 0:3])                       # クラスタリングの計算を実行\n",
    "    distortions.append(km.inertia_) # SSEをリストに格納していく\n",
    "\n",
    "# 結果を散布図に出力\n",
    "plt.plot(range(1,11), distortions,marker='o') # 1から10までのSSEを順にプロット\n",
    "plt.xticks([i for i in range(1, 11)])         # 横軸のメモリを1から10までの1刻みに設定\n",
    "plt.xlabel('Number of clusters')\n",
    "plt.ylabel('Distortion')\n",
    "plt.show()\n",
    "\n",
    "distortions = []\n",
    "\n",
    "for k  in range(1,11):              # 1~10クラスタまで繰り返し計算 \n",
    "    km = KMeans(n_clusters=k,       # クラスタの数をk個に指定\n",
    "                init='random',   # セントロイドの初期値をk-means++法で設定\n",
    "                n_init=10,          # セントロイドの初期値を変えての繰り返し回数を指定\n",
    "                max_iter=300,       # 一回の最適化の繰り返し回数を指定\n",
    "                random_state=0)     # 乱数の生成状態を指定\n",
    "    \n",
    "    km.fit(X_r2_pca[:, 0:3])                       # クラスタリングの計算を実行\n",
    "    distortions.append(km.inertia_) # SSEをリストに格納していく\n",
    "\n",
    "# 結果を散布図に出力\n",
    "plt.plot(range(1,11), distortions,marker='o') # 1から10までのSSEを順にプロット\n",
    "plt.xticks([i for i in range(1, 11)])         # 横軸のメモリを1から10までの1刻みに設定\n",
    "plt.xlabel('Number of clusters')\n",
    "plt.ylabel('Distortion')\n",
    "plt.show()\n",
    "\n",
    "distortions = []\n",
    "\n",
    "for k  in range(1,11):              # 1~10クラスタまで繰り返し計算 \n",
    "    km = KMeans(n_clusters=k,       # クラスタの数をk個に指定\n",
    "                init='random',   # セントロイドの初期値をk-means++法で設定\n",
    "                n_init=10,          # セントロイドの初期値を変えての繰り返し回数を指定\n",
    "                max_iter=300,       # 一回の最適化の繰り返し回数を指定\n",
    "                random_state=0)     # 乱数の生成状態を指定\n",
    "    \n",
    "    km.fit(X_r3_pca[:, 0:3])                       # クラスタリングの計算を実行\n",
    "    distortions.append(km.inertia_) # SSEをリストに格納していく\n",
    "\n",
    "# 結果を散布図に出力\n",
    "plt.plot(range(1,11), distortions,marker='o') # 1から10までのSSEを順にプロット\n",
    "plt.xticks([i for i in range(1, 11)])         # 横軸のメモリを1から10までの1刻みに設定\n",
    "plt.xlabel('Number of clusters')\n",
    "plt.ylabel('Distortion')\n",
    "plt.show()\n",
    "\n",
    "distortions = []\n",
    "\n",
    "for k  in range(1,11):              # 1~10クラスタまで繰り返し計算 \n",
    "    km = KMeans(n_clusters=k,       # クラスタの数をk個に指定\n",
    "                init='random',   # セントロイドの初期値をk-means++法で設定\n",
    "                n_init=10,          # セントロイドの初期値を変えての繰り返し回数を指定\n",
    "                max_iter=300,       # 一回の最適化の繰り返し回数を指定\n",
    "                random_state=0)     # 乱数の生成状態を指定\n",
    "    \n",
    "    km.fit(X_c1_pca[:, 0:3])                       # クラスタリングの計算を実行\n",
    "    distortions.append(km.inertia_) # SSEをリストに格納していく\n",
    "\n",
    "# 結果を散布図に出力\n",
    "plt.plot(range(1,11), distortions,marker='o') # 1から10までのSSEを順にプロット\n",
    "plt.xticks([i for i in range(1, 11)])         # 横軸のメモリを1から10までの1刻みに設定\n",
    "plt.xlabel('Number of clusters')\n",
    "plt.ylabel('Distortion')\n",
    "plt.show()\n",
    "\n",
    "distortions = []\n",
    "\n",
    "for k  in range(1,11):              # 1~10クラスタまで繰り返し計算 \n",
    "    km = KMeans(n_clusters=k,       # クラスタの数をk個に指定\n",
    "                init='random',   # セントロイドの初期値をk-means++法で設定\n",
    "                n_init=10,          # セントロイドの初期値を変えての繰り返し回数を指定\n",
    "                max_iter=300,       # 一回の最適化の繰り返し回数を指定\n",
    "                random_state=0)     # 乱数の生成状態を指定\n",
    "    \n",
    "    km.fit(X_c2_pca[:, 0:3])                       # クラスタリングの計算を実行\n",
    "    distortions.append(km.inertia_) # SSEをリストに格納していく\n",
    "\n",
    "# 結果を散布図に出力\n",
    "plt.plot(range(1,11), distortions,marker='o') # 1から10までのSSEを順にプロット\n",
    "plt.xticks([i for i in range(1, 11)])         # 横軸のメモリを1から10までの1刻みに設定\n",
    "plt.xlabel('Number of clusters')\n",
    "plt.ylabel('Distortion')\n",
    "plt.show()"
   ]
  },
  {
   "cell_type": "code",
   "execution_count": 27,
   "metadata": {},
   "outputs": [
    {
     "data": {
      "text/plain": [
       "'\\nまとめ\\n日用品および食品への支出度合いは裕福度合いを表していると考えられる。\\n今回の分析によってある程度消費者の傾向はつかめたので、新しく売りたい商品があるときにアピールすべき顧客層の把握は簡単にできるだろう。\\n（生鮮品を売りたいのならばHorecaで,Horecaでの消費量が多い地域の住民など）\\n'"
      ]
     },
     "execution_count": 27,
     "metadata": {},
     "output_type": "execute_result"
    }
   ],
   "source": [
    "\"\"\"\n",
    "まとめ\n",
    "日用品および食品への支出度合いは裕福度合いを表していると考えられる。\n",
    "今回の分析によってある程度消費者の傾向はつかめたので、新しく売りたい商品があるときにアピールすべき顧客層の把握は簡単にできるだろう。\n",
    "（生鮮品を売りたいのならばHorecaで,Horecaでの消費量が多い地域の住民など）\n",
    "\"\"\""
   ]
  },
  {
   "cell_type": "code",
   "execution_count": null,
   "metadata": {},
   "outputs": [],
   "source": [
    "#参考にしたサイト　http://select-from-where.hatenablog.com/entry/2017/09/24/202340#市場細分化に基づくターゲット市場の選定"
   ]
  }
 ],
 "metadata": {
  "kernelspec": {
   "display_name": "Python 3",
   "language": "python",
   "name": "python3"
  },
  "language_info": {
   "codemirror_mode": {
    "name": "ipython",
    "version": 3
   },
   "file_extension": ".py",
   "mimetype": "text/x-python",
   "name": "python",
   "nbconvert_exporter": "python",
   "pygments_lexer": "ipython3",
   "version": "3.6.3"
  }
 },
 "nbformat": 4,
 "nbformat_minor": 2
}
